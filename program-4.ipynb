{
 "cells": [
  {
   "cell_type": "code",
   "execution_count": 1,
   "id": "8b3c2306-a62c-4831-a6fe-23e31bc32e0e",
   "metadata": {},
   "outputs": [],
   "source": [
    "import numpy as np\n",
    "X = np.array(([2, 9], [1, 5], [3, 6]), dtype=float)\n",
    "y = np.array(([92], [86], [89]), dtype=float)\n",
    "X = X/np.amax(X,axis=0) # maximum of X array longitudinally\n",
    "y = y/100"
   ]
  },
  {
   "cell_type": "code",
   "execution_count": 2,
   "id": "cf2f9c4b-72b3-4bda-8d51-25c6e3071970",
   "metadata": {},
   "outputs": [],
   "source": [
    "def sigmoid (x):\n",
    " return 1/(1 + np.exp(-x))"
   ]
  },
  {
   "cell_type": "code",
   "execution_count": 3,
   "id": "a32a8b03-03d8-499b-a71b-2b8b5afbef08",
   "metadata": {},
   "outputs": [],
   "source": [
    "def derivatives_sigmoid(x):\n",
    " return x * (1 - x)"
   ]
  },
  {
   "cell_type": "code",
   "execution_count": 4,
   "id": "22ec38dd-afd5-492c-a447-3279482a2ee1",
   "metadata": {},
   "outputs": [],
   "source": [
    "epoch=500 # Setting training iterations\n",
    "lr=0.1 # Setting learning rate\n",
    "inputlayer_neurons = 2 # number of features in data set\n",
    "hiddenlayer_neurons = 3 # number of hidden layers neurons\n",
    "output_neurons = 1 # number of neurons at output layer"
   ]
  },
  {
   "cell_type": "code",
   "execution_count": 5,
   "id": "9d570025-c25e-4662-be14-ad2b9bf242f7",
   "metadata": {},
   "outputs": [],
   "source": [
    "wh=np.random.uniform(size=(inputlayer_neurons,hiddenlayer_neurons))\n",
    "bh=np.random.uniform(size=(1,hiddenlayer_neurons))\n",
    "wout=np.random.uniform(size=(hiddenlayer_neurons,output_neurons))\n",
    "bout=np.random.uniform(size=(1,output_neurons))"
   ]
  },
  {
   "cell_type": "code",
   "execution_count": 6,
   "id": "aaba51ae-803f-4aae-bd6b-38b5e6f6deee",
   "metadata": {},
   "outputs": [],
   "source": [
    "for i in range(epoch):\n",
    " # Forward Propogation\n",
    " hinp1=np.dot(X,wh)\n",
    " hinp=hinp1 + bh\n",
    " hlayer_act = sigmoid(hinp)\n",
    " outinp1=np.dot(hlayer_act,wout)\n",
    " outinp= outinp1+ bout\n",
    " output = sigmoid(outinp)\n"
   ]
  },
  {
   "cell_type": "code",
   "execution_count": 7,
   "id": "bca83fe9-d2b9-49cc-8ccf-283311e4e7f9",
   "metadata": {},
   "outputs": [],
   "source": [
    "EO = y-output\n",
    "outgrad = derivatives_sigmoid(output)\n",
    "d_output = EO* outgrad\n",
    "EH = d_output.dot(wout.T)"
   ]
  },
  {
   "cell_type": "code",
   "execution_count": 9,
   "id": "8483a237-f25c-483f-87d3-808bba432add",
   "metadata": {},
   "outputs": [],
   "source": [
    "hiddengrad = derivatives_sigmoid(hlayer_act)\n",
    "d_hiddenlayer = EH * hiddengrad"
   ]
  },
  {
   "cell_type": "code",
   "execution_count": 10,
   "id": "8f34cf5e-59b4-4f08-bb56-4d3ef9dc2588",
   "metadata": {},
   "outputs": [],
   "source": [
    "wout += hlayer_act.T.dot(d_output) *lr\n",
    "wh += X.T.dot(d_hiddenlayer) *lr"
   ]
  },
  {
   "cell_type": "code",
   "execution_count": 11,
   "id": "3e24656a-6f00-4345-9617-9932b35a591e",
   "metadata": {},
   "outputs": [
    {
     "name": "stdout",
     "output_type": "stream",
     "text": [
      "\n",
      " Input: \n",
      "[[0.66666667 1.        ]\n",
      " [0.33333333 0.55555556]\n",
      " [1.         0.66666667]]\n",
      "\n",
      " Actual Output: \n",
      "[[0.92]\n",
      " [0.86]\n",
      " [0.89]]\n",
      "\n",
      " Predicted Output: \n",
      " [[0.81310395]\n",
      " [0.808403  ]\n",
      " [0.81115346]]\n"
     ]
    }
   ],
   "source": [
    "print(\"\\n Input: \\n\" + str(X))\n",
    "print(\"\\n Actual Output: \\n\" + str(y))\n",
    "print(\"\\n Predicted Output: \\n\" ,output)"
   ]
  },
  {
   "cell_type": "code",
   "execution_count": null,
   "id": "17ff7987-b65c-4c8b-b87f-2530020dbb05",
   "metadata": {},
   "outputs": [],
   "source": []
  }
 ],
 "metadata": {
  "kernelspec": {
   "display_name": "Python 3 (ipykernel)",
   "language": "python",
   "name": "python3"
  },
  "language_info": {
   "codemirror_mode": {
    "name": "ipython",
    "version": 3
   },
   "file_extension": ".py",
   "mimetype": "text/x-python",
   "name": "python",
   "nbconvert_exporter": "python",
   "pygments_lexer": "ipython3",
   "version": "3.12.3"
  }
 },
 "nbformat": 4,
 "nbformat_minor": 5
}
